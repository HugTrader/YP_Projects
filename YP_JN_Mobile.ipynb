{
 "cells": [
  {
   "cell_type": "markdown",
   "metadata": {},
   "source": [
    "# Сборный проект\n",
    "\n",
    "\n",
    "# Описание проекта\n",
    "\n",
    "Вы работаете в стартапе, который продаёт продукты питания. Нужно разобраться, как ведут себя пользователи вашего мобильного приложения.\n",
    "\n",
    "Изучите воронку продаж. Узнайте, как пользователи доходят до покупки. Сколько пользователей доходит до покупки, а сколько — «застревает» на предыдущих шагах? На каких именно?\n",
    "\n",
    "После этого исследуйте результаты A/A/B-эксперимента. Дизайнеры захотели поменять шрифты во всём приложении, а менеджеры испугались, что пользователям будет непривычно. Договорились принять решение по результатам A/A/B-теста. Пользователей разбили на 3 группы: 2 контрольные со старыми шрифтами и одну экспериментальную — с новыми. Выясните, какой шрифт лучше.\n",
    "\n",
    "Создание двух групп A вместо одной имеет определённые преимущества. Если две контрольные группы окажутся равны, вы можете быть уверены в точности проведенного тестирования. Если же между значениями A и A будут существенные различия, это поможет обнаружить факторы, которые привели к искажению результатов. Сравнение контрольных групп также помогает понять, сколько времени и данных потребуется для дальнейших тестов.\n",
    "\n",
    "В случае общей аналитики и A/A/B-эксперимента работайте с одними и теми же данными. В реальных проектах всегда идут эксперименты. Аналитики исследуют качество работы приложения по общим данным, не учитывая принадлежность пользователей к экспериментам.\n",
    "\n",
    "# Описание данных\n",
    "\n",
    "Каждая запись в логе — это действие пользователя, или событие.\n",
    "- EventName — название события;\n",
    "- DeviceIDHash — уникальный идентификатор пользователя;\n",
    "- EventTimestamp — время события;\n",
    "- ExpId — номер эксперимента: 246 и 247 — контрольные группы, а 248 — экспериментальная.\n",
    "\n",
    "### Откройте файл с данными и изучите общую информацию"
   ]
  },
  {
   "cell_type": "code",
   "execution_count": null,
   "metadata": {},
   "outputs": [],
   "source": [
    "import pandas as pd\n",
    "import math\n",
    "from datetime import datetime\n",
    "import numpy as np\n",
    "import matplotlib.pyplot as plt\n",
    "from scipy import stats as st\n",
    "import seaborn as sns\n",
    "import plotly.express as px\n",
    "from plotly import graph_objects as go \n",
    "\n",
    "df = pd.read_csv('/datasets/logs_exp.csv', sep = '\\t')\n",
    "\n",
    "display(df.head())\n",
    "\n",
    "print(df.info())"
   ]
  },
  {
   "cell_type": "markdown",
   "metadata": {},
   "source": [
    "### Подготовьте данные\n",
    "\n",
    "- Замените названия столбцов на удобные для вас;"
   ]
  },
  {
   "cell_type": "code",
   "execution_count": null,
   "metadata": {},
   "outputs": [],
   "source": [
    "df.columns = ['event','user','tmstmp','group']\n",
    "display(df.head())"
   ]
  },
  {
   "cell_type": "markdown",
   "metadata": {},
   "source": [
    "- Проверьте пропуски и типы данных. Откорректируйте, если нужно;"
   ]
  },
  {
   "cell_type": "code",
   "execution_count": null,
   "metadata": {
    "scrolled": true
   },
   "outputs": [],
   "source": [
    "df['tmstmp'] = pd.to_datetime(df['tmstmp'],unit='s')\n",
    "\n",
    "df['group'] = df['group'].astype('str')\n",
    "\n",
    "df['group'] = df['group'].replace('246', 'A1')\n",
    "df['group'] = df['group'].replace('247', 'A2')\n",
    "df['group'] = df['group'].replace('248', 'B')\n",
    "\n",
    "display(df.head())"
   ]
  },
  {
   "cell_type": "markdown",
   "metadata": {},
   "source": [
    "Кроме изменения типа данных, я так же поменял название групп на более легкие к восприятию."
   ]
  },
  {
   "cell_type": "markdown",
   "metadata": {},
   "source": [
    "- Добавьте столбец даты и времени, а также отдельный столбец дат;"
   ]
  },
  {
   "cell_type": "code",
   "execution_count": null,
   "metadata": {
    "scrolled": true
   },
   "outputs": [],
   "source": [
    "df['date'] = df['tmstmp'].dt.date\n",
    "display(df.head())"
   ]
  },
  {
   "cell_type": "code",
   "execution_count": null,
   "metadata": {
    "scrolled": true
   },
   "outputs": [],
   "source": [
    "print('Duplicated records: {}'.format(df.duplicated().sum()))\n",
    "print()"
   ]
  },
  {
   "cell_type": "markdown",
   "metadata": {},
   "source": [
    "413 дубликатов. Давайте избавимся от них."
   ]
  },
  {
   "cell_type": "code",
   "execution_count": null,
   "metadata": {},
   "outputs": [],
   "source": [
    "df = df.drop_duplicates().reset_index(drop = True)\n",
    "print('Duplicated records: {}'.format(df.duplicated().sum()))\n",
    "print()"
   ]
  },
  {
   "cell_type": "markdown",
   "metadata": {},
   "source": [
    "### Изучите и проверьте данные\n",
    "\n",
    "- Сколько всего событий в логе?\n",
    "- Сколько всего пользователей в логе?\n",
    "- Сколько в среднем событий приходится на пользователя?"
   ]
  },
  {
   "cell_type": "code",
   "execution_count": null,
   "metadata": {},
   "outputs": [],
   "source": [
    "print('Кол-во событии в логе: {}'.format(len(df['event'])))\n",
    "print('Кол-во пользователей в логе: {}'.format(df['user'].nunique()))\n",
    "print('В среднем на одного пользователя приходится {:.0f} события'.format(\n",
    "    (df\n",
    "         .groupby('user')\n",
    "         .agg({'event':'count'})\n",
    "         .reset_index()\n",
    "    )['event'].mean()\n",
    "))"
   ]
  },
  {
   "cell_type": "markdown",
   "metadata": {},
   "source": [
    "- Данными за какой период вы располагаете? Найдите максимальную и минимальную дату. Постройте гистограмму по дате и времени. Можно ли быть уверенным, что у вас одинаково полные данные за весь период? Технически в логи новых дней по некоторым пользователям могут «доезжать» события из прошлого — это может «перекашивать данные». Определите, с какого момента данные полные и отбросьте более старые. Данными за какой период времени вы располагаете на самом деле?\n",
    "- Много ли событий и пользователей вы потеряли, отбросив старые данные?"
   ]
  },
  {
   "cell_type": "code",
   "execution_count": null,
   "metadata": {},
   "outputs": [],
   "source": [
    "print(\n",
    "    'Датафрейм содержит информацию с {} по {}'\n",
    "    .format(\n",
    "        df['tmstmp'].min(),\n",
    "        df['tmstmp'].max()\n",
    "    )\n",
    ")"
   ]
  },
  {
   "cell_type": "code",
   "execution_count": null,
   "metadata": {
    "scrolled": true
   },
   "outputs": [],
   "source": [
    "fig = (\n",
    "    px.histogram(df, x = 'tmstmp')\n",
    "    .update_layout(\n",
    "        title = 'Распределение кол-ва событии по датам',\n",
    "        yaxis_title = 'Кол-во событии',\n",
    "        xaxis_title = 'Дата'\n",
    "    )\n",
    ")\n",
    "\n",
    "fig.show()"
   ]
  },
  {
   "cell_type": "markdown",
   "metadata": {},
   "source": [
    "Учитывая показания гистограммы, можно сделать вывод, что в фрейме содержиться полная информация лишь по 7 дням (с 1 по 7 августа). Отбросим ненужные данные, и посмотрим, как много пользователей и событии отсеется."
   ]
  },
  {
   "cell_type": "code",
   "execution_count": null,
   "metadata": {},
   "outputs": [],
   "source": [
    "limit = datetime.strptime('2019-08-01 00:00:00', '%Y-%m-%d %H:%M:%S')\n",
    "\n",
    "df_clean = df.query('tmstmp >= @limit')\n",
    "\n",
    "print(\n",
    "    'Обновленный датафрейм содержит информацию с {} по {}'\n",
    "    .format(\n",
    "        df_clean['tmstmp'].min(),\n",
    "        df_clean['tmstmp'].max()\n",
    "    )\n",
    ")\n",
    "print('Доля отсеянных событии: {:.2%} ({} событии)'.format(\n",
    "    (len(df['event']) - len(df_clean['event'])) / len(df['event']),\n",
    "    len(df['event']) - len(df_clean['event'])\n",
    "))\n",
    "print('Доля отсеянных пользователей: {:.2%} ({} пользователей)'.format(\n",
    "    (df['user'].nunique() - df_clean['user'].nunique()) / df['user'].nunique(),\n",
    "    df['user'].nunique() - df_clean['user'].nunique()\n",
    "))"
   ]
  },
  {
   "cell_type": "markdown",
   "metadata": {},
   "source": [
    "- Проверьте, что у вас есть пользователи из всех трёх экспериментальных групп."
   ]
  },
  {
   "cell_type": "code",
   "execution_count": null,
   "metadata": {
    "scrolled": true
   },
   "outputs": [],
   "source": [
    "(\n",
    "    px.histogram(\n",
    "        df_clean.groupby('user').agg({'group':'max'}),\n",
    "        x = 'group'\n",
    "    )\n",
    "    .update_layout(\n",
    "        title = 'Распределение пользователей по группам',\n",
    "        yaxis_title = 'Кол-во пользователей',\n",
    "        xaxis_title = 'Группа' \n",
    "    )\n",
    ")"
   ]
  },
  {
   "cell_type": "markdown",
   "metadata": {},
   "source": [
    "Дополнено: Отлично! Наш датафрейм содержит данные по всем трем группам. Кол-во пользователей при этом примерно одинаково во всех группах (±2500)."
   ]
  },
  {
   "cell_type": "markdown",
   "metadata": {},
   "source": [
    "### Изучите воронку событий\n",
    "- Посмотрите, какие события есть в логах, как часто они встречаются. Отсортируйте события по частоте."
   ]
  },
  {
   "cell_type": "code",
   "execution_count": null,
   "metadata": {
    "scrolled": true
   },
   "outputs": [],
   "source": [
    "(\n",
    "    px.histogram(\n",
    "        df_clean,\n",
    "        x = 'event'\n",
    "    )\n",
    "    .update_xaxes(categoryorder='total descending')\n",
    "    .update_layout(\n",
    "        title = 'Распределение событии',\n",
    "        xaxis_title = 'Событие',\n",
    "        yaxis_title = 'Кол-во'\n",
    "    )\n",
    ")"
   ]
  },
  {
   "cell_type": "markdown",
   "metadata": {},
   "source": [
    "Дополнено: Похоже, что самым частотным событием является появление пользователя на главном экране. Логично! Самым непопулярным при этом является прохождение обучение. Видимо, оно не особо активно навязывается пользователю, вот все его и игнорируют."
   ]
  },
  {
   "cell_type": "markdown",
   "metadata": {},
   "source": [
    "- Посчитайте, сколько пользователей совершали каждое из этих событий. Отсортируйте события по числу пользователей. Посчитайте долю пользователей, которые хоть раз совершали событие."
   ]
  },
  {
   "cell_type": "code",
   "execution_count": null,
   "metadata": {
    "scrolled": true
   },
   "outputs": [],
   "source": [
    "(\n",
    "    px.bar(\n",
    "        df_clean.groupby('event').agg({'user':'nunique'}).reset_index(),\n",
    "        x = 'event',\n",
    "        y = 'user'\n",
    "    )\n",
    "    .update_xaxes(categoryorder='total descending')\n",
    "    .update_layout(\n",
    "        title = 'Распределение событии по кол-ву пользователей',\n",
    "        xaxis_title = 'Событие',\n",
    "        yaxis_title = 'Кол-во пользователей'\n",
    "    )\n",
    ")"
   ]
  },
  {
   "cell_type": "code",
   "execution_count": null,
   "metadata": {
    "scrolled": true
   },
   "outputs": [],
   "source": [
    "df_var = df_clean.groupby('event').agg({'user':'nunique'}).reset_index()\n",
    "\n",
    "df_var['%'] = df_var['user'] / 7534\n",
    "\n",
    "(\n",
    "    px.bar(\n",
    "        df_var,\n",
    "        x = 'event',\n",
    "        y = '%'\n",
    "    )\n",
    "    .update_xaxes(categoryorder='total descending')\n",
    "    .update_layout(\n",
    "        title = '% пользователей совершивших событие',\n",
    "        xaxis_title = 'Событие',\n",
    "        yaxis_title = '% пользователей'\n",
    "    )\n",
    ")"
   ]
  },
  {
   "cell_type": "markdown",
   "metadata": {},
   "source": [
    "Дополнено: Чтож, если рассматривать частотность событии в разрезе кол-ва уникальных пользователей, то ситуация будет соотносится с прошлым наблюдением."
   ]
  },
  {
   "cell_type": "markdown",
   "metadata": {},
   "source": [
    "- Предположите, в каком порядке происходят события. Все ли они выстраиваются в последовательную цепочку? Их не нужно учитывать при расчёте воронки.\n",
    "\n",
    "Не до конца понятно, что из себя представляет обучение, и на каком этапе оно должно происходить. Полагаю, что будет логичнее оставить этот этап за скобками."
   ]
  },
  {
   "cell_type": "markdown",
   "metadata": {},
   "source": [
    "- По воронке событий посчитайте, какая доля пользователей проходит на следующий шаг воронки (от числа пользователей на предыдущем). То есть для последовательности событий A → B → C посчитайте отношение числа пользователей с событием B к количеству пользователей с событием A, а также отношение числа пользователей с событием C к количеству пользователей с событием B."
   ]
  },
  {
   "cell_type": "code",
   "execution_count": null,
   "metadata": {
    "scrolled": false
   },
   "outputs": [],
   "source": [
    "df_clean = df_clean.query('event != \"Tutorial\"')\n",
    "\n",
    "pre_funnel = (\n",
    "    df.pivot_table(\n",
    "        index = 'user',\n",
    "        columns = 'event',\n",
    "        values = 'tmstmp',\n",
    "        aggfunc = 'min'\n",
    "    )\n",
    "    .reset_index()\n",
    ")\n",
    "\n",
    "display(pre_funnel.head())"
   ]
  },
  {
   "cell_type": "markdown",
   "metadata": {},
   "source": [
    "Мы создали фрейм для того, чтобы понять, какой путь прошел каждый пользователь. Следующим шагом мы построим воронку с учетом последовательности действии пользователя."
   ]
  },
  {
   "cell_type": "code",
   "execution_count": null,
   "metadata": {
    "scrolled": true
   },
   "outputs": [],
   "source": [
    "step_1 = ~pre_funnel['MainScreenAppear'].isna()\n",
    "step_2 = step_1 & (pre_funnel['OffersScreenAppear'] > pre_funnel['MainScreenAppear'])\n",
    "step_3 = step_2 & (pre_funnel['CartScreenAppear'] > pre_funnel['OffersScreenAppear'])\n",
    "step_4 = step_3 & (pre_funnel['PaymentScreenSuccessful'] > pre_funnel['CartScreenAppear'])\n",
    "\n",
    "d = {\n",
    "    'step' : ['MainScreenAppear','OffersScreenAppear','CartScreenAppear','PaymentScreenSuccessful'],\n",
    "    'users' : [\n",
    "        len(pre_funnel[step_1]['user']),\n",
    "        len(pre_funnel[step_2]['user']),\n",
    "        len(pre_funnel[step_3]['user']),\n",
    "        len(pre_funnel[step_4]['user'])\n",
    "    ]\n",
    "}\n",
    "\n",
    "funnel = pd.DataFrame(data = d)\n",
    "\n",
    "fig = go.Figure(go.Funnel(y = funnel['step'], x = funnel['users'])) \n",
    "\n",
    "fig.show()"
   ]
  },
  {
   "cell_type": "markdown",
   "metadata": {},
   "source": [
    "Дополнено: Чтож, если смотреть на нашу воронку с учетом предполагаемой последовательности действии, то конверсия составляет 6%! Что звучит наверное и не так уж и плохо, я полагаю (но, конечно, нет пределов совершентсву). "
   ]
  },
  {
   "cell_type": "markdown",
   "metadata": {},
   "source": [
    "Дополнено: Интересно, а есть ли пользователи, которые пошли иным путем и не совершали действия в предполагаемой нами последовательности? Давайте взглянем, есть ли такие пользователи, а также как будет выглядеть наша воронка в таком случае."
   ]
  },
  {
   "cell_type": "code",
   "execution_count": null,
   "metadata": {},
   "outputs": [],
   "source": [
    "display(pre_funnel.query('(~PaymentScreenSuccessful.isna())'))"
   ]
  },
  {
   "cell_type": "markdown",
   "metadata": {},
   "source": [
    "Дополнено: Есть практически 3000 пользователей, которые прошли к оплате другим путем. Вполне может быть, что и к другим шагам они могли пройти иначе. Давайте посмотрим на воронку."
   ]
  },
  {
   "cell_type": "code",
   "execution_count": null,
   "metadata": {},
   "outputs": [],
   "source": [
    "df.query('event != \"Tutorial\"').groupby('event').agg({'user':'nunique'}).reset_index()"
   ]
  },
  {
   "cell_type": "code",
   "execution_count": null,
   "metadata": {
    "scrolled": true
   },
   "outputs": [],
   "source": [
    "d = df.query('event != \"Tutorial\"').groupby('event').agg({'user':'nunique'}).reset_index().sort_values(by = 'user', ascending = False)\n",
    "\n",
    "funnel = pd.DataFrame(data = d)\n",
    "\n",
    "fig = go.Figure(go.Funnel(y = funnel['event'], x = funnel['user'])) \n",
    "\n",
    "fig.show()"
   ]
  },
  {
   "cell_type": "markdown",
   "metadata": {},
   "source": [
    "Дополнено: Ничего себе! Наша воронка выглядит совсем иначе, если мы берем в расчет пользователей, которые пришли к оплате иным путем. Возможно наш сайт позволяет оформить покупку в один клик?"
   ]
  },
  {
   "cell_type": "markdown",
   "metadata": {},
   "source": [
    "- На каком шаге теряете больше всего пользователей?\n",
    "\n",
    "Скорректированно: Если смотреть на \"последовательную\" воронку, то самый большой процент пользователей мы теряем на шаге перехода к оплате - лишь 28% пользователей оплачивают товар, добавив его в корзину. Возможно, стоит направить эту информацию коллегам для более глубокого анализа.\n",
    "\n",
    "Кроме этого, очевидно, что есть большое (причем весьма) кол-во пользователей, которые не следуют последовательности, которая заложена в процессе взаимодействия с нашим сайтом. Если смотреть на \"последовательную\" воронку, то самое большое кол-во пользователей теряется при переходе с главного экрана на экран с предложениями.\n",
    "\n",
    "- Какая доля пользователей доходит от первого события до оплаты?\n",
    "\n",
    "6 процентов"
   ]
  },
  {
   "cell_type": "markdown",
   "metadata": {},
   "source": [
    "### Изучите результаты эксперимента\n",
    "\n",
    "- Сколько пользователей в каждой экспериментальной группе?"
   ]
  },
  {
   "cell_type": "code",
   "execution_count": null,
   "metadata": {
    "scrolled": true
   },
   "outputs": [],
   "source": [
    "display(df_clean.groupby('group').agg({'user':'nunique'}))"
   ]
  },
  {
   "cell_type": "markdown",
   "metadata": {},
   "source": [
    "- Есть 2 контрольные группы для А/А-эксперимента, чтобы проверить корректность всех механизмов и расчётов. Проверьте, находят ли статистические критерии разницу между выборками 246 и 247."
   ]
  },
  {
   "cell_type": "markdown",
   "metadata": {},
   "source": [
    "Для проведения необходимых статистических тестов нам нужно понять, сколько пользователей в каждой группе совершили целевое действие."
   ]
  },
  {
   "cell_type": "code",
   "execution_count": null,
   "metadata": {
    "scrolled": true
   },
   "outputs": [],
   "source": [
    "test_df = (\n",
    "    df_clean.pivot_table(\n",
    "        index = 'group',\n",
    "        columns = 'event',\n",
    "        values = 'user',\n",
    "        aggfunc = 'nunique'\n",
    "    )\n",
    ")\n",
    "\n",
    "display(test_df)"
   ]
  },
  {
   "cell_type": "markdown",
   "metadata": {},
   "source": [
    "Теперь проведем тест, который позволит нам проверить следующие гипотезы:\n",
    "- Н0 - Доли двух выборок не различаются\n",
    "- Н1 - Между долями двух выборок есть разница\n",
    "\n",
    "Здесь и далее по отношению к каждым группам мы будем проверять этот набор гипотез.\n",
    "\n",
    "Возьмем в качестве уровня значимости 0.05"
   ]
  },
  {
   "cell_type": "code",
   "execution_count": null,
   "metadata": {},
   "outputs": [],
   "source": [
    "alpha = .05\n",
    "\n",
    "def share_test(A, B):\n",
    "    \n",
    "    p1 = A[0]/B[0]\n",
    "    \n",
    "    p2 = A[1]/B[1]\n",
    "    \n",
    "    p_combined = (A[0] + A[1]) / (B[0] + B[1])\n",
    "    \n",
    "    difference = p1 - p2\n",
    "\n",
    "    z_value = difference / math.sqrt(p_combined * (1 - p_combined) * (1/B[0] + 1/B[1]))\n",
    "\n",
    "    distr = st.norm(0, 1)\n",
    "\n",
    "    p_value = (1 - distr.cdf(abs(z_value))) * 2\n",
    "    \n",
    "    print('Доля пользователей совершивших событие в 1-й группе {:.2%}'.format(A[0]/B[0]))\n",
    "    \n",
    "    print('Доля пользователей совершивших событие в 2-й группе {:.2%}'.format(A[1]/B[1]))\n",
    "    \n",
    "    print('p-значение: ', p_value)\n",
    "\n",
    "    if p_value < alpha:\n",
    "        print('Отвергаем нулевую гипотезу: между долями есть значимая разница')\n",
    "    else:\n",
    "        print(\n",
    "            'Не получилось отвергнуть нулевую гипотезу, нет оснований считать доли в группах разными'\n",
    "        )\n",
    "\n",
    "# A - пользователи совершившие целевое действие\n",
    "        \n",
    "# B - попытки\n",
    "    \n",
    "A = [1200,1158]\n",
    "\n",
    "\n",
    "B = [2450,2476]\n",
    "\n",
    "share_test(A,B)"
   ]
  },
  {
   "cell_type": "code",
   "execution_count": null,
   "metadata": {},
   "outputs": [],
   "source": [
    "df_evnt = (\n",
    "    df_clean.pivot_table(\n",
    "            index = 'group',\n",
    "            columns = 'event',\n",
    "            values = 'user',\n",
    "            aggfunc = 'nunique'\n",
    "        )\n",
    "    .reset_index()\n",
    "    .merge(df_clean.groupby('group').agg({'user':'nunique'}).reset_index(),\n",
    "           on = 'group',\n",
    "           how = 'outer'\n",
    "          )\n",
    ")\n",
    "\n",
    "display(df_evnt)"
   ]
  },
  {
   "cell_type": "code",
   "execution_count": null,
   "metadata": {},
   "outputs": [],
   "source": [
    "# 0 - группа А1, 1 - группа А2, 2 - группа Б\n",
    "\n",
    "def share_test(GrpI, GrpII, step):\n",
    "    \n",
    "    p1 = df_evnt.loc[GrpI,step]/df_evnt.loc[GrpI,'user']\n",
    "    \n",
    "    p2 = df_evnt.loc[GrpII,step]/df_evnt.loc[GrpII,'user']\n",
    "    \n",
    "    p_combined = (df_evnt.loc[GrpI,step] + df_evnt.loc[GrpII,step]) / (df_evnt.loc[GrpI,'user'] + df_evnt.loc[GrpII,'user'])\n",
    "    \n",
    "    difference = p1 - p2\n",
    "\n",
    "    z_value = difference / math.sqrt(p_combined * (1 - p_combined) * (1/B[0] + 1/B[1]))\n",
    "\n",
    "    distr = st.norm(0, 1)\n",
    "\n",
    "    p_value = (1 - distr.cdf(abs(z_value))) * 2\n",
    "    \n",
    "    print('Доля пользователей совершивших событие {} в 1-й группе {:.2%}'.format(step, A[0]/B[0]))\n",
    "    \n",
    "    print('Доля пользователей совершивших событие {} в 2-й группе {:.2%}'.format(step, A[1]/B[1]))\n",
    "    \n",
    "    print('p-значение: ', p_value)\n",
    "\n",
    "    if p_value < alpha:\n",
    "        print('Отвергаем нулевую гипотезу: между долями есть значимая разница')\n",
    "    else:\n",
    "        print(\n",
    "            'Не получилось отвергнуть нулевую гипотезу, нет оснований считать доли в группах разными'\n",
    "        )\n",
    "        \n",
    "share_test(0,1,'PaymentScreenSuccessful')"
   ]
  },
  {
   "cell_type": "markdown",
   "metadata": {},
   "source": [
    "- Выберите самое популярное событие. Посчитайте число пользователей, совершивших это событие в каждой из контрольных групп. Посчитайте долю пользователей, совершивших это событие. Проверьте, будет ли отличие между группами статистически достоверным. Проделайте то же самое для всех других событий (удобно обернуть проверку в отдельную функцию). Можно ли сказать, что разбиение на группы работает корректно?"
   ]
  },
  {
   "cell_type": "markdown",
   "metadata": {},
   "source": [
    "Самое популярное действие - появление на начальном экране. Давайте узнаем, какая доля пользователей совершила его, а также есть ли различие в долях контрольных групп.\n",
    "\n",
    "- Н0 - Доли двух выборок не различаются\n",
    "- Н1 - Между долями двух выборок есть разница\n"
   ]
  },
  {
   "cell_type": "code",
   "execution_count": null,
   "metadata": {
    "scrolled": false
   },
   "outputs": [],
   "source": [
    "share_test(0,1,'MainScreenAppear')"
   ]
  },
  {
   "cell_type": "markdown",
   "metadata": {},
   "source": [
    "Разницы между контрольными группами по отношению к появлениб на начальном экране нет. Давайте проверим остальные события."
   ]
  },
  {
   "cell_type": "code",
   "execution_count": null,
   "metadata": {
    "scrolled": false
   },
   "outputs": [],
   "source": [
    "share_test(0,1,'OffersScreenAppear')\n",
    "\n",
    "print()\n",
    "\n",
    "share_test(0,1,'CartScreenAppear')"
   ]
  },
  {
   "cell_type": "markdown",
   "metadata": {},
   "source": [
    "Различии между контрольными группами нет, так что у нас нет основании полагать, что разбиение пользователей между ними произошло некорректно."
   ]
  },
  {
   "cell_type": "markdown",
   "metadata": {},
   "source": [
    "- Аналогично поступите с группой с изменённым шрифтом. Сравните результаты с каждой из контрольных групп в отдельности по каждому событию. Сравните результаты с объединённой контрольной группой. Какие выводы из эксперимента можно сделать?"
   ]
  },
  {
   "cell_type": "markdown",
   "metadata": {},
   "source": [
    "Теперт нам нужно проверить не один, а два набора гипотез. Таким образом, для избежания ошибки при множественном сравнения мы воспользуемся поправкой Бонферрони для того, чтобы скорректировать значение alpha."
   ]
  },
  {
   "cell_type": "code",
   "execution_count": null,
   "metadata": {
    "scrolled": true
   },
   "outputs": [],
   "source": [
    "alpha = .025\n",
    "\n",
    "print('A1 / B')\n",
    "\n",
    "print()\n",
    "\n",
    "share_test(0,2,'MainScreenAppear')\n",
    "\n",
    "print()\n",
    "\n",
    "print('A2 / B')\n",
    "\n",
    "print()\n",
    "\n",
    "share_test(1,2,'MainScreenAppear')"
   ]
  },
  {
   "cell_type": "code",
   "execution_count": null,
   "metadata": {
    "scrolled": true
   },
   "outputs": [],
   "source": [
    "print('A1 / B')\n",
    "\n",
    "print()\n",
    "\n",
    "share_test(0,2,'OffersScreenAppear')\n",
    "\n",
    "print()\n",
    "\n",
    "print('A2 / B')\n",
    "\n",
    "print()\n",
    "\n",
    "share_test(1,2,'OffersScreenAppear')"
   ]
  },
  {
   "cell_type": "code",
   "execution_count": null,
   "metadata": {},
   "outputs": [],
   "source": [
    "print('A1 / B')\n",
    "\n",
    "print()\n",
    "\n",
    "share_test(0,2,'CartScreenAppear')\n",
    "\n",
    "print()\n",
    "\n",
    "print('A2 / B')\n",
    "\n",
    "print()\n",
    "\n",
    "share_test(1,2,'CartScreenAppear')"
   ]
  },
  {
   "cell_type": "code",
   "execution_count": null,
   "metadata": {
    "scrolled": true
   },
   "outputs": [],
   "source": [
    "print('A1 / B')\n",
    "\n",
    "print()\n",
    "\n",
    "share_test(0,2,'PaymentScreenSuccessful')\n",
    "\n",
    "print()\n",
    "\n",
    "print('A2 / B')\n",
    "\n",
    "print()\n",
    "\n",
    "share_test(1,2,'PaymentScreenSuccessful')"
   ]
  },
  {
   "cell_type": "code",
   "execution_count": null,
   "metadata": {
    "scrolled": true
   },
   "outputs": [],
   "source": [
    "combined = {'group':'A1/A2','CartScreenAppear':2504,'MainScreenAppear':4926,'OffersScreenAppear':3062,'PaymentScreenSuccessful':2358,'user':4995}\n",
    "\n",
    "df_evnt = df_evnt.append(combined,ignore_index=True)\n",
    "\n",
    "display(df_evnt)"
   ]
  },
  {
   "cell_type": "code",
   "execution_count": null,
   "metadata": {},
   "outputs": [],
   "source": [
    "print('A Combined / B')\n",
    "\n",
    "print()\n",
    "\n",
    "share_test(0,3,'MainScreenAppear')\n",
    "\n",
    "print()\n",
    "\n",
    "share_test(0,3,'OffersScreenAppear')\n",
    "\n",
    "print()\n",
    "\n",
    "share_test(0,3,'CartScreenAppear')\n",
    "\n",
    "print()\n",
    "\n",
    "share_test(0,3,'PaymentScreenSuccessful')"
   ]
  },
  {
   "cell_type": "markdown",
   "metadata": {},
   "source": [
    "Разницы между объединенными контрольными группами и измененной так же нет."
   ]
  },
  {
   "cell_type": "markdown",
   "metadata": {},
   "source": [
    "- Какой уровень значимости вы выбрали при проверке статистических гипотез выше? Посчитайте, сколько проверок статистических гипотез вы сделали. При уровне значимости 0.1 каждый десятый раз можно получать ложный результат. Какой уровень значимости стоит применить? Если вы хотите изменить его, проделайте предыдущие пункты и проверьте свои выводы."
   ]
  },
  {
   "cell_type": "markdown",
   "metadata": {},
   "source": [
    "Мы использовали скорректированный показатель статистической значимости, но вы только посмотрите на значения P при проверке каждой из гипотез. Очевидно, что оно настолько большое, что очевидно, что изменение уровня значимости не повляиет на результат эксперимента. \n",
    "\n",
    "На самом деле, результат кажется достаточно логичным. Тяжело представить, насколько сильно надо было изменить шрифты (или насколько они были ужасны), чтобы сильно повлиять на конверсию."
   ]
  },
  {
   "cell_type": "code",
   "execution_count": null,
   "metadata": {},
   "outputs": [],
   "source": []
  }
 ],
 "metadata": {
  "kernelspec": {
   "display_name": "Python 3",
   "language": "python",
   "name": "python3"
  },
  "language_info": {
   "codemirror_mode": {
    "name": "ipython",
    "version": 3
   },
   "file_extension": ".py",
   "mimetype": "text/x-python",
   "name": "python",
   "nbconvert_exporter": "python",
   "pygments_lexer": "ipython3",
   "version": "3.8.3"
  },
  "toc": {
   "base_numbering": 1,
   "nav_menu": {},
   "number_sections": true,
   "sideBar": true,
   "skip_h1_title": true,
   "title_cell": "Table of Contents",
   "title_sidebar": "Contents",
   "toc_cell": false,
   "toc_position": {},
   "toc_section_display": true,
   "toc_window_display": false
  }
 },
 "nbformat": 4,
 "nbformat_minor": 2
}
